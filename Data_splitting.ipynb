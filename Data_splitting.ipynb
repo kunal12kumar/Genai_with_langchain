{
 "cells": [
  {
   "cell_type": "markdown",
   "id": "fa408d9b",
   "metadata": {},
   "source": [
    "In this we will split all the data into chunks because llm has context limit"
   ]
  },
  {
   "cell_type": "code",
   "execution_count": 4,
   "id": "17ac7030",
   "metadata": {},
   "outputs": [],
   "source": [
    "from langchain_community.document_loaders import TextLoader\n",
    "loader_text=TextLoader('ramayan.txt')\n"
   ]
  },
  {
   "cell_type": "code",
   "execution_count": 5,
   "id": "8743a52e",
   "metadata": {},
   "outputs": [],
   "source": [
    "# now pdf \n",
    "from langchain_community.document_loaders import PyMuPDFLoader\n",
    "loader_pdf=PyMuPDFLoader('Sci-trek thon 2024_ps.pdf')"
   ]
  },
  {
   "cell_type": "code",
   "execution_count": 26,
   "id": "0470477e",
   "metadata": {},
   "outputs": [],
   "source": [
    "# for url\n",
    "from langchain_community.document_loaders import WebBaseLoader\n",
    "loader_url=WebBaseLoader('https://www.mosdac.gov.in/')\n",
    "result=loader_url.load()"
   ]
  },
  {
   "cell_type": "code",
   "execution_count": 7,
   "id": "d9ea1093",
   "metadata": {},
   "outputs": [],
   "source": [
    "# now splitting the text\n",
    "from langchain.text_splitter import RecursiveCharacterTextSplitter\n",
    "splitter=RecursiveCharacterTextSplitter(\n",
    "    chunk_size=500,\n",
    "    chunk_overlap=0\n",
    ")"
   ]
  },
  {
   "cell_type": "code",
   "execution_count": 21,
   "id": "27dd53cf",
   "metadata": {},
   "outputs": [
    {
     "name": "stdout",
     "output_type": "stream",
     "text": [
      "### Chapter 1: Birth of Rama\n",
      "In the ancient kingdom of Ayodhya, King Dasharatha ruled with wisdom and fairness. Despite his wealth and power, he and his three queens—Kaushalya, Kaikeyi, and Sumitra—were without children. Seeking blessings, the king performed a grand yajna (sacrifice). The gods blessed him with divine payasam (sweet rice pudding), which he distributed among his queens. Soon, four sons were born: Rama to Kaushalya, Bharata to Kaikeyi, and Lakshmana and Shatrughna to Sumitra. Among them, Rama was the eldest and most virtuous, admired by all for his strength, wisdom, and kindness.\n",
      "\n",
      "\n",
      "### Chapter 2: Rama Wins Sita\n",
      "As the princes grew up, their fame spread far and wide. When it was time for marriage, a swayamvara was held in the kingdom of Mithila by King Janaka to find a suitable husband for his daughter Sita. The condition was that the suitor must string the mighty bow of Lord Shiva. Many tried and failed. But Rama, with ease and grace, lifted and broke the bow. Thus, he won the hand of Sita. Their wedding was a joyous occasion, and the couples—Rama-Sita, Lakshmana-Urmila, Bharata-Mandavi, and Shatrughna-Shrutakirti—returned to Ayodhya in celebration.\n",
      "\n",
      "\n",
      "### Chapter 3: Exile to the Forest\n",
      "Dasharatha planned to crown Rama as king. But Kaikeyi, manipulated by her maid Manthara, demanded that her son Bharata be crowned and Rama be exiled for 14 years. Though heartbroken, Rama obeyed his father’s word. Sita and Lakshmana insisted on accompanying him. The three left Ayodhya, donning simple robes and walking barefoot into the forests. King Dasharatha, unable to bear the grief of separation, died shortly after. Bharata, in anguish, refused to take the throne and instead ruled as Rama’s regent, placing Rama’s sandals on the throne as a symbol.\n",
      "\n",
      "\n",
      "### Chapter 4: Life in the Forest\n",
      "During their exile, the trio traveled through forests, meeting sages and encountering demons. They visited the hermitages of rishis like Atri, Agastya, and others. Rama protected the sages and defeated many rakshasas (demons), including the powerful demoness Shurpanakha, sister of Ravana. In retaliation, Ravana plotted revenge. With the help of his uncle Maricha, he abducted Sita using deceit. As Rama and Lakshmana were lured away, Ravana flew away with Sita to Lanka. When Rama returned and found Sita missing, he was devastated.\n",
      "\n",
      "\n",
      "### Chapter 5: Alliance with Hanuman\n",
      "In search of Sita, Rama and Lakshmana met the monkey king Sugriva and formed an alliance. Sugriva’s general, Hanuman, leapt across the ocean to Lanka and found Sita imprisoned in Ashoka Vatika. He gave her Rama’s ring and reassured her of Rama’s rescue. On his return, Hanuman set Lanka ablaze with his burning tail. With the help of the Vanara (monkey) army, Rama built a bridge—Rama Setu—across the ocean to reach Lanka.\n",
      "\n",
      "\n",
      "### Chapter 6: Battle in Lanka\n",
      "A great battle ensued in Lanka. Rama and Ravana fought fiercely. Many heroes from both sides perished, including Lakshmana being seriously wounded and later revived with Sanjeevani brought by Hanuman. Ravana’s son Indrajit was also slain. Finally, Rama defeated Ravana using the Brahmastra. The gods rejoiced, and Sita was freed. To prove her purity, Sita underwent Agni Pariksha (trial by fire), emerging unharmed.\n",
      "\n",
      "\n",
      "### Chapter 7: Return to Ayodhya\n",
      "Rama, Sita, and Lakshmana returned to Ayodhya after 14 years. Their arrival was marked by celebrations, and Rama was crowned king. His reign, known as **Rama Rajya**, was a period of peace, justice, and prosperity. But due to gossip among subjects about Sita’s chastity, Rama reluctantly sent her into exile. Sita found refuge in Sage Valmiki’s ashram, where she gave birth to twins—Lava and Kusha.\n",
      "\n",
      "\n",
      "### Chapter 8: Reunion and Conclusion\n",
      "Years later, Rama held a yajna where Lava and Kusha recited the Ramayana, revealing their identity. Rama recognized them as his sons. He invited Sita to return, but she chose to return to Mother Earth, seeking final peace. Rama ruled Ayodhya for many more years before returning to his divine form as Vishnu. The epic ends with the message of dharma (righteousness), sacrifice, and ideal living.\n",
      "\n",
      "\n",
      "### Chapter 1: Birth of Rama\n",
      "In the ancient kingdom of Ayodhya, King Dasharatha ruled with wisdom and fairness. Despite his wealth and power, he and his three queens—Kaushalya, Kaikeyi, and Sumitra—were without children. Seeking blessings, the king performed a grand yajna (sacrifice). The gods blessed him with divine payasam (sweet rice pudding), which he distributed among his queens. Soon, four sons were born: Rama to Kaushalya, Bharata to Kaikeyi, and Lakshmana and Shatrughna to Sumitra. Among them, Rama was the eldest and most virtuous, admired by all for his strength, wisdom, and kindness.\n",
      "\n",
      "\n",
      "### Chapter 2: Rama Wins Sita\n",
      "As the princes grew up, their fame spread far and wide. When it was time for marriage, a swayamvara was held in the kingdom of Mithila by King Janaka to find a suitable husband for his daughter Sita. The condition was that the suitor must string the mighty bow of Lord Shiva. Many tried and failed. But Rama, with ease and grace, lifted and broke the bow. Thus, he won the hand of Sita. Their wedding was a joyous occasion, and the couples—Rama-Sita, Lakshmana-Urmila, Bharata-Mandavi, and Shatrughna-Shrutakirti—returned to Ayodhya in celebration.\n",
      "\n",
      "\n",
      "### Chapter 3: Exile to the Forest\n",
      "Dasharatha planned to crown Rama as king. But Kaikeyi, manipulated by her maid Manthara, demanded that her son Bharata be crowned and Rama be exiled for 14 years. Though heartbroken, Rama obeyed his father’s word. Sita and Lakshmana insisted on accompanying him. The three left Ayodhya, donning simple robes and walking barefoot into the forests. King Dasharatha, unable to bear the grief of separation, died shortly after. Bharata, in anguish, refused to take the throne and instead ruled as Rama’s regent, placing Rama’s sandals on the throne as a symbol.\n",
      "\n",
      "\n",
      "### Chapter 4: Life in the Forest\n",
      "During their exile, the trio traveled through forests, meeting sages and encountering demons. They visited the hermitages of rishis like Atri, Agastya, and others. Rama protected the sages and defeated many rakshasas (demons), including the powerful demoness Shurpanakha, sister of Ravana. In retaliation, Ravana plotted revenge. With the help of his uncle Maricha, he abducted Sita using deceit. As Rama and Lakshmana were lured away, Ravana flew away with Sita to Lanka. When Rama returned and found Sita missing, he was devastated.\n",
      "\n",
      "\n",
      "### Chapter 5: Alliance with Hanuman\n",
      "In search of Sita, Rama and Lakshmana met the monkey king Sugriva and formed an alliance. Sugriva’s general, Hanuman, leapt across the ocean to Lanka and found Sita imprisoned in Ashoka Vatika. He gave her Rama’s ring and reassured her of Rama’s rescue. On his return, Hanuman set Lanka ablaze with his burning tail. With the help of the Vanara (monkey) army, Rama built a bridge—Rama Setu—across the ocean to reach Lanka.\n",
      "\n",
      "\n",
      "### Chapter 6: Battle in Lanka\n",
      "A great battle ensued in Lanka. Rama and Ravana fought fiercely. Many heroes from both sides perished, including Lakshmana being seriously wounded and later revived with Sanjeevani brought by Hanuman. Ravana’s son Indrajit was also slain. Finally, Rama defeated Ravana using the Brahmastra. The gods rejoiced, and Sita was freed. To prove her purity, Sita underwent Agni Pariksha (trial by fire), emerging unharmed.\n",
      "\n",
      "\n",
      "### Chapter 7: Return to Ayodhya\n",
      "Rama, Sita, and Lakshmana returned to Ayodhya after 14 years. Their arrival was marked by celebrations, and Rama was crowned king. His reign, known as **Rama Rajya**, was a period of peace, justice, and prosperity. But due to gossip among subjects about Sita’s chastity, Rama reluctantly sent her into exile. Sita found refuge in Sage Valmiki’s ashram, where she gave birth to twins—Lava and Kusha.\n",
      "\n",
      "\n",
      "### Chapter 8: Reunion and Conclusion\n",
      "Years later, Rama held a yajna where Lava and Kusha recited the Ramayana, revealing their identity. Rama recognized them as his sons. He invited Sita to return, but she chose to return to Mother Earth, seeking final peace. Rama ruled Ayodhya for many more years before returning to his divine form as Vishnu. The epic ends with the message of dharma (righteousness), sacrifice, and ideal living.\n",
      "\n",
      "\n"
     ]
    }
   ],
   "source": [
    "result_txt=loader_text.load()\n",
    "print(result_txt[0].page_content)\n",
    "text=result_txt[0].page_content"
   ]
  },
  {
   "cell_type": "code",
   "execution_count": 12,
   "id": "6196ca31",
   "metadata": {},
   "outputs": [],
   "source": [
    "splitter_result=splitter.split_text(text)"
   ]
  },
  {
   "cell_type": "code",
   "execution_count": 13,
   "id": "6d0144cd",
   "metadata": {},
   "outputs": [
    {
     "name": "stdout",
     "output_type": "stream",
     "text": [
      "['### Chapter 1: Birth of Rama', 'In the ancient kingdom of Ayodhya, King Dasharatha ruled with wisdom and fairness. Despite his wealth and power, he and his three queens—Kaushalya, Kaikeyi, and Sumitra—were without children. Seeking blessings, the king performed a grand yajna (sacrifice). The gods blessed him with divine payasam (sweet rice pudding), which he distributed among his queens. Soon, four sons were born: Rama to Kaushalya, Bharata to Kaikeyi, and Lakshmana and Shatrughna to Sumitra. Among them, Rama was the eldest', 'and most virtuous, admired by all for his strength, wisdom, and kindness.', '### Chapter 2: Rama Wins Sita', 'As the princes grew up, their fame spread far and wide. When it was time for marriage, a swayamvara was held in the kingdom of Mithila by King Janaka to find a suitable husband for his daughter Sita. The condition was that the suitor must string the mighty bow of Lord Shiva. Many tried and failed. But Rama, with ease and grace, lifted and broke the bow. Thus, he won the hand of Sita. Their wedding was a joyous occasion, and the couples—Rama-Sita, Lakshmana-Urmila, Bharata-Mandavi, and', 'Shatrughna-Shrutakirti—returned to Ayodhya in celebration.', '### Chapter 3: Exile to the Forest', 'Dasharatha planned to crown Rama as king. But Kaikeyi, manipulated by her maid Manthara, demanded that her son Bharata be crowned and Rama be exiled for 14 years. Though heartbroken, Rama obeyed his father’s word. Sita and Lakshmana insisted on accompanying him. The three left Ayodhya, donning simple robes and walking barefoot into the forests. King Dasharatha, unable to bear the grief of separation, died shortly after. Bharata, in anguish, refused to take the throne and instead ruled as Rama’s', 'regent, placing Rama’s sandals on the throne as a symbol.', '### Chapter 4: Life in the Forest', 'During their exile, the trio traveled through forests, meeting sages and encountering demons. They visited the hermitages of rishis like Atri, Agastya, and others. Rama protected the sages and defeated many rakshasas (demons), including the powerful demoness Shurpanakha, sister of Ravana. In retaliation, Ravana plotted revenge. With the help of his uncle Maricha, he abducted Sita using deceit. As Rama and Lakshmana were lured away, Ravana flew away with Sita to Lanka. When Rama returned and', 'found Sita missing, he was devastated.', '### Chapter 5: Alliance with Hanuman\\nIn search of Sita, Rama and Lakshmana met the monkey king Sugriva and formed an alliance. Sugriva’s general, Hanuman, leapt across the ocean to Lanka and found Sita imprisoned in Ashoka Vatika. He gave her Rama’s ring and reassured her of Rama’s rescue. On his return, Hanuman set Lanka ablaze with his burning tail. With the help of the Vanara (monkey) army, Rama built a bridge—Rama Setu—across the ocean to reach Lanka.', '### Chapter 6: Battle in Lanka\\nA great battle ensued in Lanka. Rama and Ravana fought fiercely. Many heroes from both sides perished, including Lakshmana being seriously wounded and later revived with Sanjeevani brought by Hanuman. Ravana’s son Indrajit was also slain. Finally, Rama defeated Ravana using the Brahmastra. The gods rejoiced, and Sita was freed. To prove her purity, Sita underwent Agni Pariksha (trial by fire), emerging unharmed.', '### Chapter 7: Return to Ayodhya\\nRama, Sita, and Lakshmana returned to Ayodhya after 14 years. Their arrival was marked by celebrations, and Rama was crowned king. His reign, known as **Rama Rajya**, was a period of peace, justice, and prosperity. But due to gossip among subjects about Sita’s chastity, Rama reluctantly sent her into exile. Sita found refuge in Sage Valmiki’s ashram, where she gave birth to twins—Lava and Kusha.', '### Chapter 8: Reunion and Conclusion\\nYears later, Rama held a yajna where Lava and Kusha recited the Ramayana, revealing their identity. Rama recognized them as his sons. He invited Sita to return, but she chose to return to Mother Earth, seeking final peace. Rama ruled Ayodhya for many more years before returning to his divine form as Vishnu. The epic ends with the message of dharma (righteousness), sacrifice, and ideal living.', '### Chapter 1: Birth of Rama', 'In the ancient kingdom of Ayodhya, King Dasharatha ruled with wisdom and fairness. Despite his wealth and power, he and his three queens—Kaushalya, Kaikeyi, and Sumitra—were without children. Seeking blessings, the king performed a grand yajna (sacrifice). The gods blessed him with divine payasam (sweet rice pudding), which he distributed among his queens. Soon, four sons were born: Rama to Kaushalya, Bharata to Kaikeyi, and Lakshmana and Shatrughna to Sumitra. Among them, Rama was the eldest', 'and most virtuous, admired by all for his strength, wisdom, and kindness.', '### Chapter 2: Rama Wins Sita', 'As the princes grew up, their fame spread far and wide. When it was time for marriage, a swayamvara was held in the kingdom of Mithila by King Janaka to find a suitable husband for his daughter Sita. The condition was that the suitor must string the mighty bow of Lord Shiva. Many tried and failed. But Rama, with ease and grace, lifted and broke the bow. Thus, he won the hand of Sita. Their wedding was a joyous occasion, and the couples—Rama-Sita, Lakshmana-Urmila, Bharata-Mandavi, and', 'Shatrughna-Shrutakirti—returned to Ayodhya in celebration.', '### Chapter 3: Exile to the Forest', 'Dasharatha planned to crown Rama as king. But Kaikeyi, manipulated by her maid Manthara, demanded that her son Bharata be crowned and Rama be exiled for 14 years. Though heartbroken, Rama obeyed his father’s word. Sita and Lakshmana insisted on accompanying him. The three left Ayodhya, donning simple robes and walking barefoot into the forests. King Dasharatha, unable to bear the grief of separation, died shortly after. Bharata, in anguish, refused to take the throne and instead ruled as Rama’s', 'regent, placing Rama’s sandals on the throne as a symbol.', '### Chapter 4: Life in the Forest', 'During their exile, the trio traveled through forests, meeting sages and encountering demons. They visited the hermitages of rishis like Atri, Agastya, and others. Rama protected the sages and defeated many rakshasas (demons), including the powerful demoness Shurpanakha, sister of Ravana. In retaliation, Ravana plotted revenge. With the help of his uncle Maricha, he abducted Sita using deceit. As Rama and Lakshmana were lured away, Ravana flew away with Sita to Lanka. When Rama returned and', 'found Sita missing, he was devastated.', '### Chapter 5: Alliance with Hanuman\\nIn search of Sita, Rama and Lakshmana met the monkey king Sugriva and formed an alliance. Sugriva’s general, Hanuman, leapt across the ocean to Lanka and found Sita imprisoned in Ashoka Vatika. He gave her Rama’s ring and reassured her of Rama’s rescue. On his return, Hanuman set Lanka ablaze with his burning tail. With the help of the Vanara (monkey) army, Rama built a bridge—Rama Setu—across the ocean to reach Lanka.', '### Chapter 6: Battle in Lanka\\nA great battle ensued in Lanka. Rama and Ravana fought fiercely. Many heroes from both sides perished, including Lakshmana being seriously wounded and later revived with Sanjeevani brought by Hanuman. Ravana’s son Indrajit was also slain. Finally, Rama defeated Ravana using the Brahmastra. The gods rejoiced, and Sita was freed. To prove her purity, Sita underwent Agni Pariksha (trial by fire), emerging unharmed.', '### Chapter 7: Return to Ayodhya\\nRama, Sita, and Lakshmana returned to Ayodhya after 14 years. Their arrival was marked by celebrations, and Rama was crowned king. His reign, known as **Rama Rajya**, was a period of peace, justice, and prosperity. But due to gossip among subjects about Sita’s chastity, Rama reluctantly sent her into exile. Sita found refuge in Sage Valmiki’s ashram, where she gave birth to twins—Lava and Kusha.', '### Chapter 8: Reunion and Conclusion\\nYears later, Rama held a yajna where Lava and Kusha recited the Ramayana, revealing their identity. Rama recognized them as his sons. He invited Sita to return, but she chose to return to Mother Earth, seeking final peace. Rama ruled Ayodhya for many more years before returning to his divine form as Vishnu. The epic ends with the message of dharma (righteousness), sacrifice, and ideal living.']\n"
     ]
    }
   ],
   "source": [
    "print(splitter_result)"
   ]
  },
  {
   "cell_type": "code",
   "execution_count": 14,
   "id": "44d1718e",
   "metadata": {},
   "outputs": [
    {
     "data": {
      "text/plain": [
       "32"
      ]
     },
     "execution_count": 14,
     "metadata": {},
     "output_type": "execute_result"
    }
   ],
   "source": [
    "len(splitter_result)"
   ]
  },
  {
   "cell_type": "code",
   "execution_count": 22,
   "id": "47a079ec",
   "metadata": {},
   "outputs": [
    {
     "name": "stdout",
     "output_type": "stream",
     "text": [
      "A. Environment and Climate Change:\n",
      "Develop a solution on the community level to spread awareness and track and recycle\n",
      " efforts.\n",
      "Develop a way to fix carbon dioxide so that the emitted carbon dioxide can be fixed\n",
      " with less harmful substances.\n",
      "Create a solar-powered irrigation system for sustainable agriculture.\n",
      "B. Health and Well-Being:\n",
      "Suggest ideas on monitoring and managing chronic health conditions with innovative\n",
      " technologies.\n",
      "Propose a solution for improving mental health support through technology.\n",
      "Create a tool that can use genetic information to recommend personalised patient\n",
      " treatment.\n",
      "Can we develop more effective treatments for cancer using AI and machine learning?\n",
      "Design a prototype managed by people or virtual interfaces to help individuals deal\n",
      " with stress, anxiety, phobias, loneliness, etc. It should engage the individuals wit\n",
      "h routine tasks and exercises and create awareness about mental well-being.\n",
      "Lipids and protein-based, cost-effective skin care. \n",
      "Ways for animal-free testing of products.\n",
      "C. Education and learning\n",
      "      Space\n",
      "Design a solution for tracking and mitigating the risk posed by space debris to\n",
      " operational satellites and spacecraft.\n",
      "Space Biomining: Use of microorganisms to mine metal from space.\n",
      "      AI-driven \n",
      "Develop a prototype for an AI-powered learning platform that adapts to individual\n",
      " student needs, providing personalised lesson plans, feedback, and assessments. \n",
      "       Robotics and Automation\n",
      "Building robots that perform simple tasks using principles of mechanics and\n",
      " electronics. This could include designing a robotic arm or a line-following robot usin\n",
      "g sensors.\n",
      "SCI-TREK THON 2024\n",
      "PROBLEM STATEMENTS\n"
     ]
    },
    {
     "data": {
      "text/plain": [
       "str"
      ]
     },
     "execution_count": 22,
     "metadata": {},
     "output_type": "execute_result"
    }
   ],
   "source": [
    "result_pdf=loader_pdf.load()\n",
    "pdf_content=result_pdf[0].page_content\n",
    "print(result_pdf[0].page_content\n",
    ")\n",
    "type(result_pdf[0].page_content\n",
    ")"
   ]
  },
  {
   "cell_type": "code",
   "execution_count": 20,
   "id": "e5744914",
   "metadata": {},
   "outputs": [
    {
     "name": "stdout",
     "output_type": "stream",
     "text": [
      "['A. Environment and Climate Change:\\nDevelop a solution on the community level to spread awareness and track and recycle\\n efforts.\\nDevelop a way to fix carbon dioxide so that the emitted carbon dioxide can be fixed\\n with less harmful substances.\\nCreate a solar-powered irrigation system for sustainable agriculture.\\nB. Health and Well-Being:\\nSuggest ideas on monitoring and managing chronic health conditions with innovative\\n technologies.', 'Propose a solution for improving mental health support through technology.\\nCreate a tool that can use genetic information to recommend personalised patient\\n treatment.\\nCan we develop more effective treatments for cancer using AI and machine learning?\\nDesign a prototype managed by people or virtual interfaces to help individuals deal\\n with stress, anxiety, phobias, loneliness, etc. It should engage the individuals wit\\nh routine tasks and exercises and create awareness about mental well-being.', 'Lipids and protein-based, cost-effective skin care. \\nWays for animal-free testing of products.\\nC. Education and learning\\n      Space\\nDesign a solution for tracking and mitigating the risk posed by space debris to\\n operational satellites and spacecraft.\\nSpace Biomining: Use of microorganisms to mine metal from space.\\n      AI-driven \\nDevelop a prototype for an AI-powered learning platform that adapts to individual\\n student needs, providing personalised lesson plans, feedback, and assessments.', 'Robotics and Automation\\nBuilding robots that perform simple tasks using principles of mechanics and\\n electronics. This could include designing a robotic arm or a line-following robot usin\\ng sensors.\\nSCI-TREK THON 2024\\nPROBLEM STATEMENTS']\n"
     ]
    },
    {
     "data": {
      "text/plain": [
       "4"
      ]
     },
     "execution_count": 20,
     "metadata": {},
     "output_type": "execute_result"
    }
   ],
   "source": [
    "pdf_splitter=splitter.split_text(pdf_content)\n",
    "print(pdf_splitter)\n",
    "type(pdf_splitter)\n",
    "len(pdf_splitter)"
   ]
  },
  {
   "cell_type": "code",
   "execution_count": 23,
   "id": "0c9948bc",
   "metadata": {},
   "outputs": [],
   "source": [
    "splitten_document=splitter.split_documents(result_pdf)"
   ]
  },
  {
   "cell_type": "code",
   "execution_count": 25,
   "id": "42e05a69",
   "metadata": {},
   "outputs": [
    {
     "name": "stdout",
     "output_type": "stream",
     "text": [
      "[Document(metadata={'producer': 'Canva', 'creator': 'Canva', 'creationdate': '2024-07-27T09:53:35+00:00', 'source': 'Sci-trek thon 2024_ps.pdf', 'file_path': 'Sci-trek thon 2024_ps.pdf', 'total_pages': 2, 'format': 'PDF 1.4', 'title': 'Sci-trek thon 2024', 'author': 'TIRTHA NAYAK', 'subject': '', 'keywords': 'DAGMEu4kVmA,BAFCjmrtf7E', 'moddate': '2024-07-27T09:53:35+00:00', 'trapped': '', 'modDate': \"D:20240727095335+00'00'\", 'creationDate': \"D:20240727095335+00'00'\", 'page': 0}, page_content='A. Environment and Climate Change:\\nDevelop a solution on the community level to spread awareness and track and recycle\\n efforts.\\nDevelop a way to fix carbon dioxide so that the emitted carbon dioxide can be fixed\\n with less harmful substances.\\nCreate a solar-powered irrigation system for sustainable agriculture.\\nB. Health and Well-Being:\\nSuggest ideas on monitoring and managing chronic health conditions with innovative\\n technologies.'), Document(metadata={'producer': 'Canva', 'creator': 'Canva', 'creationdate': '2024-07-27T09:53:35+00:00', 'source': 'Sci-trek thon 2024_ps.pdf', 'file_path': 'Sci-trek thon 2024_ps.pdf', 'total_pages': 2, 'format': 'PDF 1.4', 'title': 'Sci-trek thon 2024', 'author': 'TIRTHA NAYAK', 'subject': '', 'keywords': 'DAGMEu4kVmA,BAFCjmrtf7E', 'moddate': '2024-07-27T09:53:35+00:00', 'trapped': '', 'modDate': \"D:20240727095335+00'00'\", 'creationDate': \"D:20240727095335+00'00'\", 'page': 0}, page_content='Propose a solution for improving mental health support through technology.\\nCreate a tool that can use genetic information to recommend personalised patient\\n treatment.\\nCan we develop more effective treatments for cancer using AI and machine learning?\\nDesign a prototype managed by people or virtual interfaces to help individuals deal\\n with stress, anxiety, phobias, loneliness, etc. It should engage the individuals wit\\nh routine tasks and exercises and create awareness about mental well-being.'), Document(metadata={'producer': 'Canva', 'creator': 'Canva', 'creationdate': '2024-07-27T09:53:35+00:00', 'source': 'Sci-trek thon 2024_ps.pdf', 'file_path': 'Sci-trek thon 2024_ps.pdf', 'total_pages': 2, 'format': 'PDF 1.4', 'title': 'Sci-trek thon 2024', 'author': 'TIRTHA NAYAK', 'subject': '', 'keywords': 'DAGMEu4kVmA,BAFCjmrtf7E', 'moddate': '2024-07-27T09:53:35+00:00', 'trapped': '', 'modDate': \"D:20240727095335+00'00'\", 'creationDate': \"D:20240727095335+00'00'\", 'page': 0}, page_content='Lipids and protein-based, cost-effective skin care. \\nWays for animal-free testing of products.\\nC. Education and learning\\n      Space\\nDesign a solution for tracking and mitigating the risk posed by space debris to\\n operational satellites and spacecraft.\\nSpace Biomining: Use of microorganisms to mine metal from space.\\n      AI-driven \\nDevelop a prototype for an AI-powered learning platform that adapts to individual\\n student needs, providing personalised lesson plans, feedback, and assessments.'), Document(metadata={'producer': 'Canva', 'creator': 'Canva', 'creationdate': '2024-07-27T09:53:35+00:00', 'source': 'Sci-trek thon 2024_ps.pdf', 'file_path': 'Sci-trek thon 2024_ps.pdf', 'total_pages': 2, 'format': 'PDF 1.4', 'title': 'Sci-trek thon 2024', 'author': 'TIRTHA NAYAK', 'subject': '', 'keywords': 'DAGMEu4kVmA,BAFCjmrtf7E', 'moddate': '2024-07-27T09:53:35+00:00', 'trapped': '', 'modDate': \"D:20240727095335+00'00'\", 'creationDate': \"D:20240727095335+00'00'\", 'page': 0}, page_content='Robotics and Automation\\nBuilding robots that perform simple tasks using principles of mechanics and\\n electronics. This could include designing a robotic arm or a line-following robot usin\\ng sensors.\\nSCI-TREK THON 2024\\nPROBLEM STATEMENTS'), Document(metadata={'producer': 'Canva', 'creator': 'Canva', 'creationdate': '2024-07-27T09:53:35+00:00', 'source': 'Sci-trek thon 2024_ps.pdf', 'file_path': 'Sci-trek thon 2024_ps.pdf', 'total_pages': 2, 'format': 'PDF 1.4', 'title': 'Sci-trek thon 2024', 'author': 'TIRTHA NAYAK', 'subject': '', 'keywords': 'DAGMEu4kVmA,BAFCjmrtf7E', 'moddate': '2024-07-27T09:53:35+00:00', 'trapped': '', 'modDate': \"D:20240727095335+00'00'\", 'creationDate': \"D:20240727095335+00'00'\", 'page': 1}, page_content='D. Sustainable Development:\\nPropose an intelligent waste management system to optimise collection routes and\\n reduce litter.\\nHow can we develop more sustainable and eco-friendly materials for construction and\\n manufacturing?\\nDevelop an intelligent irrigation system that conserves water based on soil moisture\\n data.\\nPropose a solution for real-time water quality monitoring in rural areas.\\nCreate a prototype device that converts organic waste materials into clean energy'), Document(metadata={'producer': 'Canva', 'creator': 'Canva', 'creationdate': '2024-07-27T09:53:35+00:00', 'source': 'Sci-trek thon 2024_ps.pdf', 'file_path': 'Sci-trek thon 2024_ps.pdf', 'total_pages': 2, 'format': 'PDF 1.4', 'title': 'Sci-trek thon 2024', 'author': 'TIRTHA NAYAK', 'subject': '', 'keywords': 'DAGMEu4kVmA,BAFCjmrtf7E', 'moddate': '2024-07-27T09:53:35+00:00', 'trapped': '', 'modDate': \"D:20240727095335+00'00'\", 'creationDate': \"D:20240727095335+00'00'\", 'page': 1}, page_content='through anaerobic digestion or other innovative technologies, promoting sustainabl\\ne waste management practices.\\nDevelop a replacement for widely used plastic. It should be environmentally friendly\\n and economically affordable. It provides step-by-step procedures to manufacture th\\ne material that can replace plastic.\\nE. Food Security and Agriculture:\\nDesign a vertical farming system for urban areas.\\nCreate a solution for reducing food waste at the consumer level.'), Document(metadata={'producer': 'Canva', 'creator': 'Canva', 'creationdate': '2024-07-27T09:53:35+00:00', 'source': 'Sci-trek thon 2024_ps.pdf', 'file_path': 'Sci-trek thon 2024_ps.pdf', 'total_pages': 2, 'format': 'PDF 1.4', 'title': 'Sci-trek thon 2024', 'author': 'TIRTHA NAYAK', 'subject': '', 'keywords': 'DAGMEu4kVmA,BAFCjmrtf7E', 'moddate': '2024-07-27T09:53:35+00:00', 'trapped': '', 'modDate': \"D:20240727095335+00'00'\", 'creationDate': \"D:20240727095335+00'00'\", 'page': 1}, page_content='Cost-effective Non-animal protein for vegans.\\nAn eco-friendly, innovative way of storing and distributing food to cater to huge\\n populations like India.')]\n"
     ]
    },
    {
     "data": {
      "text/plain": [
       "7"
      ]
     },
     "execution_count": 25,
     "metadata": {},
     "output_type": "execute_result"
    }
   ],
   "source": [
    "print(splitten_document)\n",
    "len(splitten_document)"
   ]
  },
  {
   "cell_type": "code",
   "execution_count": 30,
   "id": "85e97f66",
   "metadata": {},
   "outputs": [],
   "source": [
    "from langchain.text_splitter import HTMLHeaderTextSplitter\n",
    "headers_to_split_on=[\n",
    "    (\"h1\" ,\"Header1\"),\n",
    "    (\"h2\" ,\"Header2\"),\n",
    "    (\"h3\" , \"Header3\")\n",
    "]\n",
    "\n",
    "html_split=HTMLHeaderTextSplitter(headers_to_split_on)\n",
    "html_splitter=html_split.split_text(result[0].page_content)"
   ]
  },
  {
   "cell_type": "code",
   "execution_count": 31,
   "id": "11cbea8e",
   "metadata": {},
   "outputs": [
    {
     "name": "stdout",
     "output_type": "stream",
     "text": [
      "[Document(metadata={}, page_content='Meteorological & Oceanographic Satellite Data Archival Centre\\n\\n\\n\\n\\n\\n\\n\\n\\n\\n\\n\\n\\n\\n\\n\\n\\n\\n\\n\\n\\n\\n\\n\\n\\n\\n\\nSkip to main Content\\n\\n\\n\\n\\n-A A +A \\n\\n\\n\\n\\nAA\\n\\n\\n\\n\\n\\n\\nहिन्दीEnglish\\n\\n\\n\\n\\n\\n\\n\\n \\n\\n\\n \\n\\n\\nSecondary menuSignUp\\nLogin\\nLogout\\n  \\n\\n\\n\\n\\n\\nMeteorological & Oceanographic Satellite Data Archival Centre\\n\\n\\r\\n            Space Applications Centre, ISRO          \\n \\n\\n \\n \\n\\n\\n\\n\\nHomeMissionsINSAT-3DRINSAT-3DKALPANA-1INSAT-3AMeghaTropiquesSARAL-AltiKaOCEANSAT-2OCEANSAT-3INSAT-3DSSCATSAT-1CatalogSatelliteInsitu (AWS)RADARGalleriesSatellite ProductsWeather ForecastOcean ForecastRADAR (DWR)Global Ocean CurrentData AccessOrder DataOpen DataAtmosphereBayesian based MT-SAPHIR rainfallGPS derived Integrated water vapourGSMap ISRO RainMETEOSAT8 Cloud PropertiesLand3D Volumetric TERLS DWRproductInland Water HeightRiver DischargeSoil MoistureOceanGlobal Ocean Surface CurrentHigh Resolution Sea Surface SalinityIndian Mainland Coastal ProductOcean SubsurfaceOceanic Eddies DetectionSea Ice Occurrence ProbabilityWave based Renewable EnergyCal-ValForecastRSS FeedsReportsCalibrationInsituRelativeValidationData QualityWeatherAtlasesToolsSitemapHelp \\n\\n\\n \\n\\n\\n\\n\\n\\n \\n\\n\\nSatellite Images\\nRADAR\\nWeather\\nOceanState\\nLIVE\\n\\n\\n\\n\\n\\n\\nYour browser does not support iframes, but you can use the following link. LinkFullscreen \\n\\n \\n\\n\\n \\n\\n\\n\\nServices\\n\\nForecast\\nNowcast\\nCurrent Events\\nAlerts\\nMet Applications\\nOcean Applications\\n\\n\\n\\n\\n\\n \\n\\n\\nCity Weather\\n3-hourly Weather forecast.\\n\\n\\n \\n\\n \\n\\n\\nCold Waves\\nCold wave prediction over India (WRF Model)\\n\\n\\n \\n\\n \\n\\n\\nCyclone\\nSat. Based Cyclone Obser. and Realtime Pred. over IO.\\n\\n\\n \\n\\n \\n\\n\\nHeat Waves\\nHeat Wave Prediction over India (WRF Model)\\n\\n\\n \\n\\n \\n\\n\\nHeavy Rain\\nHeavy Rain (>5mm/hr) forecast using NWP model.\\n\\n\\n \\n\\n \\n\\n\\nLightning\\nLightning Forecast\\n\\n\\n \\n\\n \\n\\n\\nMonsoon\\nMonsoon Prediction 2024\\n\\n\\n \\n\\n \\n\\n\\nSea State\\nSea State forecast in terms of Wave Height, Wave period etc.\\n\\n\\n \\n\\n \\n\\n\\nSolar & Wind\\n3 Days Solar and Wind Forecast for every 15 minutes\\n\\n\\n \\n\\n \\n\\n\\n\\n\\n\\n \\n\\n\\nCloud Burst\\nCloud Burst Nowcast for 6 hours\\xa0over Western Himalayan region.\\n\\n\\n \\n\\n \\n\\n\\nHeavy Rain\\nSatellite based nowcast for Heavy rain events for 6 hours.\\n\\n\\n \\n\\n \\n\\n\\n\\n\\n\\n \\n\\n\\nAWS Time Series\\nAWS Time Series\\n\\n\\n \\n\\n \\n\\n\\nHeavy Rain\\nHeavy Rain Events\\n\\n\\n \\n\\n \\n\\n\\nMOSDAC LIVE\\nLet\\'s Interactively Visualise the Earth (LIVE)\\n\\n\\n \\n\\n \\n\\n\\n\\n\\n\\n \\n\\n\\nIndian State Portal\\nAlerts for Indian States\\n\\n\\n \\n\\n \\n\\n\\nSouth East Asian Countries\\nAlerts for\\xa0South East Asian Countries\\n\\n\\n \\n\\n \\n\\n\\n\\n\\n\\n \\n\\n\\nUrja\\nSolar Energy\\n\\n\\n \\n\\n \\n\\n\\nVARSHA\\nRainfall\\xa0\\n\\n\\n \\n\\n \\n\\n\\nVAYU\\nAir Quality\\n\\n\\n \\n\\n \\n\\n\\nSoil Moisture\\nSoil Wetness Index\\n\\n\\n \\n\\n \\n\\n\\nSCORPIO\\nSat. Based Cyclone Obser. and Realtime Pred. over IO.\\n\\n\\n \\n\\n \\n\\n\\n\\n\\n\\n \\n\\n\\nOIL SPILL\\nALTIMETER LCS-CORES AND STRETCHING DIRECTIONS\\n\\n\\n \\n\\n \\n\\n\\nOcean Subsurface Fields\\nOcean Subsurface Fields\\n\\n\\n \\n\\n \\n\\n\\nSafe Beach\\nRIP Current Forecast for All-India beaches.\\n\\n\\n \\n\\n \\n\\n\\nOcean-Eye\\nOcean State Forecast\\n\\n\\n \\n\\n \\n\\n\\nEddy Currents\\nEddy Currents\\n\\n\\n \\n\\n \\n \\n\\n\\nAnnouncements\\n\\n\\n\\n\\n Monsoon Onset Prediction over Kerala (2024)       |   \\n   PDF, Tool: PDFViewer, Size:  763.84 KB       |   \\n   20-May-24  \\n\\n Onset over Kerala - Monsoon 2023       |   \\n   PDF, Tool: PDFViewer, Size:  463.15 KB       |   \\n   15-May-23  \\n\\n INSAT Product Version Information       |   \\n   PDF, Tool: PDFViewer, Size:  1.61 MB       |   \\n   01-Sep-22  \\n\\n SFTP Services for Data Download       |   \\n   PDF, Tool: PDFViewer, Size:  347.33 KB       |   \\n   08-Nov-21  \\n\\n\\n\\n    archive  \\n\\n \\n\\n\\n\\n \\n \\n\\n\\n\\n\\nSearch\\n\\n\\n\\nSearch \\n\\n\\n\\n\\n\\n \\n\\n\\n\\n\\nFollow Us\\n\\n \\n\\n\\n\\n\\n\\nWebsite owned and maintained by MOSDAC, Space Applications Centre, Indian Space Research Organisation, Govt. of INDIA.\\n\\n\\n\\n\\n\\n\\n\\n\\n\\n\\n\\n\\n \\n\\n\\n\\n\\nFeedback\\nAbout Us\\nContact Us\\nCopyright Policy\\nData Access Policy\\nHyperlink Policy\\nPrivacy Policy\\nWebsite Policies\\nTerms & Conditions\\nFAQs\\n \\n\\n\\n\\n\\n\\n\\n\\n\\n  \\n\\n  \\n\\n  \\n\\n  \\n\\n  \\n\\n  \\n\\n \\n \\n\\n\\n\\n\"Ver 3.0; Last reviewed and updated on\\n07 Jul, 2025& Served By:\\nWeb-Srv-Pri')]\n"
     ]
    }
   ],
   "source": [
    "print(html_splitter)"
   ]
  },
  {
   "cell_type": "code",
   "execution_count": null,
   "id": "f2eb59dc",
   "metadata": {},
   "outputs": [],
   "source": []
  }
 ],
 "metadata": {
  "kernelspec": {
   "display_name": "Python 3",
   "language": "python",
   "name": "python3"
  },
  "language_info": {
   "codemirror_mode": {
    "name": "ipython",
    "version": 3
   },
   "file_extension": ".py",
   "mimetype": "text/x-python",
   "name": "python",
   "nbconvert_exporter": "python",
   "pygments_lexer": "ipython3",
   "version": "3.10.18"
  }
 },
 "nbformat": 4,
 "nbformat_minor": 5
}

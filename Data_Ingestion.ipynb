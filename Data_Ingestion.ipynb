{
 "cells": [
  {
   "cell_type": "markdown",
   "id": "4decfefb",
   "metadata": {},
   "source": [
    "In this we will extract data from various sources"
   ]
  },
  {
   "cell_type": "markdown",
   "id": "1695a835",
   "metadata": {},
   "source": [
    "we are going to deal with documents loader so , we can start scarping the data from various "
   ]
  },
  {
   "cell_type": "code",
   "execution_count": 2,
   "id": "099071af",
   "metadata": {},
   "outputs": [],
   "source": [
    "from langchain_community.document_loaders import TextLoader\n",
    "loader=TextLoader('ramayan.txt')\n"
   ]
  },
  {
   "cell_type": "code",
   "execution_count": 3,
   "id": "3df74d52",
   "metadata": {},
   "outputs": [
    {
     "data": {
      "text/plain": [
       "<langchain_community.document_loaders.text.TextLoader at 0x2bbead2e230>"
      ]
     },
     "execution_count": 3,
     "metadata": {},
     "output_type": "execute_result"
    }
   ],
   "source": [
    "loader"
   ]
  },
  {
   "cell_type": "code",
   "execution_count": 4,
   "id": "c3e9a8a9",
   "metadata": {},
   "outputs": [
    {
     "name": "stdout",
     "output_type": "stream",
     "text": [
      "<langchain_community.document_loaders.text.TextLoader object at 0x000002BBEAD2E230>\n"
     ]
    }
   ],
   "source": [
    "print(loader)"
   ]
  },
  {
   "cell_type": "code",
   "execution_count": 5,
   "id": "b827d669",
   "metadata": {},
   "outputs": [
    {
     "data": {
      "text/plain": [
       "[Document(metadata={'source': 'ramayan.txt'}, page_content='### Chapter 1: Birth of Rama\\nIn the ancient kingdom of Ayodhya, King Dasharatha ruled with wisdom and fairness. Despite his wealth and power, he and his three queens—Kaushalya, Kaikeyi, and Sumitra—were without children. Seeking blessings, the king performed a grand yajna (sacrifice). The gods blessed him with divine payasam (sweet rice pudding), which he distributed among his queens. Soon, four sons were born: Rama to Kaushalya, Bharata to Kaikeyi, and Lakshmana and Shatrughna to Sumitra. Among them, Rama was the eldest and most virtuous, admired by all for his strength, wisdom, and kindness.\\n\\n\\n### Chapter 2: Rama Wins Sita\\nAs the princes grew up, their fame spread far and wide. When it was time for marriage, a swayamvara was held in the kingdom of Mithila by King Janaka to find a suitable husband for his daughter Sita. The condition was that the suitor must string the mighty bow of Lord Shiva. Many tried and failed. But Rama, with ease and grace, lifted and broke the bow. Thus, he won the hand of Sita. Their wedding was a joyous occasion, and the couples—Rama-Sita, Lakshmana-Urmila, Bharata-Mandavi, and Shatrughna-Shrutakirti—returned to Ayodhya in celebration.\\n\\n\\n### Chapter 3: Exile to the Forest\\nDasharatha planned to crown Rama as king. But Kaikeyi, manipulated by her maid Manthara, demanded that her son Bharata be crowned and Rama be exiled for 14 years. Though heartbroken, Rama obeyed his father’s word. Sita and Lakshmana insisted on accompanying him. The three left Ayodhya, donning simple robes and walking barefoot into the forests. King Dasharatha, unable to bear the grief of separation, died shortly after. Bharata, in anguish, refused to take the throne and instead ruled as Rama’s regent, placing Rama’s sandals on the throne as a symbol.\\n\\n\\n### Chapter 4: Life in the Forest\\nDuring their exile, the trio traveled through forests, meeting sages and encountering demons. They visited the hermitages of rishis like Atri, Agastya, and others. Rama protected the sages and defeated many rakshasas (demons), including the powerful demoness Shurpanakha, sister of Ravana. In retaliation, Ravana plotted revenge. With the help of his uncle Maricha, he abducted Sita using deceit. As Rama and Lakshmana were lured away, Ravana flew away with Sita to Lanka. When Rama returned and found Sita missing, he was devastated.\\n\\n\\n### Chapter 5: Alliance with Hanuman\\nIn search of Sita, Rama and Lakshmana met the monkey king Sugriva and formed an alliance. Sugriva’s general, Hanuman, leapt across the ocean to Lanka and found Sita imprisoned in Ashoka Vatika. He gave her Rama’s ring and reassured her of Rama’s rescue. On his return, Hanuman set Lanka ablaze with his burning tail. With the help of the Vanara (monkey) army, Rama built a bridge—Rama Setu—across the ocean to reach Lanka.\\n\\n\\n### Chapter 6: Battle in Lanka\\nA great battle ensued in Lanka. Rama and Ravana fought fiercely. Many heroes from both sides perished, including Lakshmana being seriously wounded and later revived with Sanjeevani brought by Hanuman. Ravana’s son Indrajit was also slain. Finally, Rama defeated Ravana using the Brahmastra. The gods rejoiced, and Sita was freed. To prove her purity, Sita underwent Agni Pariksha (trial by fire), emerging unharmed.\\n\\n\\n### Chapter 7: Return to Ayodhya\\nRama, Sita, and Lakshmana returned to Ayodhya after 14 years. Their arrival was marked by celebrations, and Rama was crowned king. His reign, known as **Rama Rajya**, was a period of peace, justice, and prosperity. But due to gossip among subjects about Sita’s chastity, Rama reluctantly sent her into exile. Sita found refuge in Sage Valmiki’s ashram, where she gave birth to twins—Lava and Kusha.\\n\\n\\n### Chapter 8: Reunion and Conclusion\\nYears later, Rama held a yajna where Lava and Kusha recited the Ramayana, revealing their identity. Rama recognized them as his sons. He invited Sita to return, but she chose to return to Mother Earth, seeking final peace. Rama ruled Ayodhya for many more years before returning to his divine form as Vishnu. The epic ends with the message of dharma (righteousness), sacrifice, and ideal living.\\n\\n\\n### Chapter 1: Birth of Rama\\nIn the ancient kingdom of Ayodhya, King Dasharatha ruled with wisdom and fairness. Despite his wealth and power, he and his three queens—Kaushalya, Kaikeyi, and Sumitra—were without children. Seeking blessings, the king performed a grand yajna (sacrifice). The gods blessed him with divine payasam (sweet rice pudding), which he distributed among his queens. Soon, four sons were born: Rama to Kaushalya, Bharata to Kaikeyi, and Lakshmana and Shatrughna to Sumitra. Among them, Rama was the eldest and most virtuous, admired by all for his strength, wisdom, and kindness.\\n\\n\\n### Chapter 2: Rama Wins Sita\\nAs the princes grew up, their fame spread far and wide. When it was time for marriage, a swayamvara was held in the kingdom of Mithila by King Janaka to find a suitable husband for his daughter Sita. The condition was that the suitor must string the mighty bow of Lord Shiva. Many tried and failed. But Rama, with ease and grace, lifted and broke the bow. Thus, he won the hand of Sita. Their wedding was a joyous occasion, and the couples—Rama-Sita, Lakshmana-Urmila, Bharata-Mandavi, and Shatrughna-Shrutakirti—returned to Ayodhya in celebration.\\n\\n\\n### Chapter 3: Exile to the Forest\\nDasharatha planned to crown Rama as king. But Kaikeyi, manipulated by her maid Manthara, demanded that her son Bharata be crowned and Rama be exiled for 14 years. Though heartbroken, Rama obeyed his father’s word. Sita and Lakshmana insisted on accompanying him. The three left Ayodhya, donning simple robes and walking barefoot into the forests. King Dasharatha, unable to bear the grief of separation, died shortly after. Bharata, in anguish, refused to take the throne and instead ruled as Rama’s regent, placing Rama’s sandals on the throne as a symbol.\\n\\n\\n### Chapter 4: Life in the Forest\\nDuring their exile, the trio traveled through forests, meeting sages and encountering demons. They visited the hermitages of rishis like Atri, Agastya, and others. Rama protected the sages and defeated many rakshasas (demons), including the powerful demoness Shurpanakha, sister of Ravana. In retaliation, Ravana plotted revenge. With the help of his uncle Maricha, he abducted Sita using deceit. As Rama and Lakshmana were lured away, Ravana flew away with Sita to Lanka. When Rama returned and found Sita missing, he was devastated.\\n\\n\\n### Chapter 5: Alliance with Hanuman\\nIn search of Sita, Rama and Lakshmana met the monkey king Sugriva and formed an alliance. Sugriva’s general, Hanuman, leapt across the ocean to Lanka and found Sita imprisoned in Ashoka Vatika. He gave her Rama’s ring and reassured her of Rama’s rescue. On his return, Hanuman set Lanka ablaze with his burning tail. With the help of the Vanara (monkey) army, Rama built a bridge—Rama Setu—across the ocean to reach Lanka.\\n\\n\\n### Chapter 6: Battle in Lanka\\nA great battle ensued in Lanka. Rama and Ravana fought fiercely. Many heroes from both sides perished, including Lakshmana being seriously wounded and later revived with Sanjeevani brought by Hanuman. Ravana’s son Indrajit was also slain. Finally, Rama defeated Ravana using the Brahmastra. The gods rejoiced, and Sita was freed. To prove her purity, Sita underwent Agni Pariksha (trial by fire), emerging unharmed.\\n\\n\\n### Chapter 7: Return to Ayodhya\\nRama, Sita, and Lakshmana returned to Ayodhya after 14 years. Their arrival was marked by celebrations, and Rama was crowned king. His reign, known as **Rama Rajya**, was a period of peace, justice, and prosperity. But due to gossip among subjects about Sita’s chastity, Rama reluctantly sent her into exile. Sita found refuge in Sage Valmiki’s ashram, where she gave birth to twins—Lava and Kusha.\\n\\n\\n### Chapter 8: Reunion and Conclusion\\nYears later, Rama held a yajna where Lava and Kusha recited the Ramayana, revealing their identity. Rama recognized them as his sons. He invited Sita to return, but she chose to return to Mother Earth, seeking final peace. Rama ruled Ayodhya for many more years before returning to his divine form as Vishnu. The epic ends with the message of dharma (righteousness), sacrifice, and ideal living.\\n\\n')]"
      ]
     },
     "execution_count": 5,
     "metadata": {},
     "output_type": "execute_result"
    }
   ],
   "source": [
    "loader.load()"
   ]
  },
  {
   "cell_type": "code",
   "execution_count": null,
   "id": "d7fd340f",
   "metadata": {},
   "outputs": [],
   "source": [
    "# now pdf \n",
    "from langchain_community.document_loaders import PyMuPDFLoader\n",
    "loader=PyMuPDFLoader('Sci-trek thon 2024_ps.pdf')"
   ]
  },
  {
   "cell_type": "code",
   "execution_count": 8,
   "id": "8ea69f4e",
   "metadata": {},
   "outputs": [
    {
     "ename": "ImportError",
     "evalue": "pymupdf package not found, please install it with `pip install pymupdf`",
     "output_type": "error",
     "traceback": [
      "\u001b[1;31m---------------------------------------------------------------------------\u001b[0m",
      "\u001b[1;31mModuleNotFoundError\u001b[0m                       Traceback (most recent call last)",
      "File \u001b[1;32md:\\Langchain_project\\langchain_env\\lib\\site-packages\\langchain_community\\document_loaders\\parsers\\pdf.py:954\u001b[0m, in \u001b[0;36mPyMuPDFParser._lazy_parse\u001b[1;34m(self, blob, text_kwargs)\u001b[0m\n\u001b[0;32m    953\u001b[0m \u001b[38;5;28;01mtry\u001b[39;00m:\n\u001b[1;32m--> 954\u001b[0m     \u001b[38;5;28;01mimport\u001b[39;00m\u001b[38;5;250m \u001b[39m\u001b[38;5;21;01mpymupdf\u001b[39;00m\n\u001b[0;32m    956\u001b[0m     text_kwargs \u001b[38;5;241m=\u001b[39m text_kwargs \u001b[38;5;129;01mor\u001b[39;00m \u001b[38;5;28mself\u001b[39m\u001b[38;5;241m.\u001b[39mtext_kwargs\n",
      "\u001b[1;31mModuleNotFoundError\u001b[0m: No module named 'pymupdf'",
      "\nDuring handling of the above exception, another exception occurred:\n",
      "\u001b[1;31mImportError\u001b[0m                               Traceback (most recent call last)",
      "Cell \u001b[1;32mIn[8], line 1\u001b[0m\n\u001b[1;32m----> 1\u001b[0m \u001b[43mloader\u001b[49m\u001b[38;5;241;43m.\u001b[39;49m\u001b[43mload\u001b[49m\u001b[43m(\u001b[49m\u001b[43m)\u001b[49m\n",
      "File \u001b[1;32md:\\Langchain_project\\langchain_env\\lib\\site-packages\\langchain_community\\document_loaders\\pdf.py:853\u001b[0m, in \u001b[0;36mPyMuPDFLoader.load\u001b[1;34m(self, **kwargs)\u001b[0m\n\u001b[0;32m    852\u001b[0m \u001b[38;5;28;01mdef\u001b[39;00m\u001b[38;5;250m \u001b[39m\u001b[38;5;21mload\u001b[39m(\u001b[38;5;28mself\u001b[39m, \u001b[38;5;241m*\u001b[39m\u001b[38;5;241m*\u001b[39mkwargs: Any) \u001b[38;5;241m-\u001b[39m\u001b[38;5;241m>\u001b[39m \u001b[38;5;28mlist\u001b[39m[Document]:\n\u001b[1;32m--> 853\u001b[0m     \u001b[38;5;28;01mreturn\u001b[39;00m \u001b[38;5;28;43mlist\u001b[39;49m\u001b[43m(\u001b[49m\u001b[38;5;28;43mself\u001b[39;49m\u001b[38;5;241;43m.\u001b[39;49m\u001b[43m_lazy_load\u001b[49m\u001b[43m(\u001b[49m\u001b[38;5;241;43m*\u001b[39;49m\u001b[38;5;241;43m*\u001b[39;49m\u001b[43mkwargs\u001b[49m\u001b[43m)\u001b[49m\u001b[43m)\u001b[49m\n",
      "File \u001b[1;32md:\\Langchain_project\\langchain_env\\lib\\site-packages\\langchain_community\\document_loaders\\pdf.py:850\u001b[0m, in \u001b[0;36mPyMuPDFLoader._lazy_load\u001b[1;34m(self, **kwargs)\u001b[0m\n\u001b[0;32m    848\u001b[0m \u001b[38;5;28;01melse\u001b[39;00m:\n\u001b[0;32m    849\u001b[0m     blob \u001b[38;5;241m=\u001b[39m Blob\u001b[38;5;241m.\u001b[39mfrom_path(\u001b[38;5;28mself\u001b[39m\u001b[38;5;241m.\u001b[39mfile_path)\n\u001b[1;32m--> 850\u001b[0m \u001b[38;5;28;01myield from\u001b[39;00m parser\u001b[38;5;241m.\u001b[39m_lazy_parse(blob, text_kwargs\u001b[38;5;241m=\u001b[39mkwargs)\n",
      "File \u001b[1;32md:\\Langchain_project\\langchain_env\\lib\\site-packages\\langchain_community\\document_loaders\\parsers\\pdf.py:991\u001b[0m, in \u001b[0;36mPyMuPDFParser._lazy_parse\u001b[1;34m(self, blob, text_kwargs)\u001b[0m\n\u001b[0;32m    965\u001b[0m         \u001b[38;5;28mself\u001b[39m\u001b[38;5;241m.\u001b[39mextract_tables_settings \u001b[38;5;241m=\u001b[39m {\n\u001b[0;32m    966\u001b[0m             \u001b[38;5;66;03m# See https://pymupdf.readthedocs.io/en/latest/page.html#Page.find_tables\u001b[39;00m\n\u001b[0;32m    967\u001b[0m             \u001b[38;5;124m\"\u001b[39m\u001b[38;5;124mclip\u001b[39m\u001b[38;5;124m\"\u001b[39m: \u001b[38;5;28;01mNone\u001b[39;00m,\n\u001b[1;32m   (...)\u001b[0m\n\u001b[0;32m    988\u001b[0m             \u001b[38;5;124m\"\u001b[39m\u001b[38;5;124madd_lines\u001b[39m\u001b[38;5;124m\"\u001b[39m: \u001b[38;5;28;01mNone\u001b[39;00m,  \u001b[38;5;66;03m# optional user-specified lines\u001b[39;00m\n\u001b[0;32m    989\u001b[0m         }\n\u001b[0;32m    990\u001b[0m \u001b[38;5;28;01mexcept\u001b[39;00m \u001b[38;5;167;01mImportError\u001b[39;00m:\n\u001b[1;32m--> 991\u001b[0m     \u001b[38;5;28;01mraise\u001b[39;00m \u001b[38;5;167;01mImportError\u001b[39;00m(\n\u001b[0;32m    992\u001b[0m         \u001b[38;5;124m\"\u001b[39m\u001b[38;5;124mpymupdf package not found, please install it \u001b[39m\u001b[38;5;124m\"\u001b[39m\n\u001b[0;32m    993\u001b[0m         \u001b[38;5;124m\"\u001b[39m\u001b[38;5;124mwith `pip install pymupdf`\u001b[39m\u001b[38;5;124m\"\u001b[39m\n\u001b[0;32m    994\u001b[0m     )\n\u001b[0;32m    996\u001b[0m \u001b[38;5;28;01mwith\u001b[39;00m PyMuPDFParser\u001b[38;5;241m.\u001b[39m_lock:\n\u001b[0;32m    997\u001b[0m     \u001b[38;5;28;01mwith\u001b[39;00m blob\u001b[38;5;241m.\u001b[39mas_bytes_io() \u001b[38;5;28;01mas\u001b[39;00m file_path:\n",
      "\u001b[1;31mImportError\u001b[0m: pymupdf package not found, please install it with `pip install pymupdf`"
     ]
    }
   ],
   "source": [
    "loader.load()"
   ]
  },
  {
   "cell_type": "code",
   "execution_count": null,
   "id": "b54c3025",
   "metadata": {},
   "outputs": [],
   "source": [
    "# for url\n",
    "from langchain_community.document_loaders import "
   ]
  }
 ],
 "metadata": {
  "kernelspec": {
   "display_name": "Python 3",
   "language": "python",
   "name": "python3"
  },
  "language_info": {
   "codemirror_mode": {
    "name": "ipython",
    "version": 3
   },
   "file_extension": ".py",
   "mimetype": "text/x-python",
   "name": "python",
   "nbconvert_exporter": "python",
   "pygments_lexer": "ipython3",
   "version": "3.10.18"
  }
 },
 "nbformat": 4,
 "nbformat_minor": 5
}

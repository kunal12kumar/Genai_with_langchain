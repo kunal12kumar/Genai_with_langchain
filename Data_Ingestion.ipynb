{
 "cells": [
  {
   "cell_type": "markdown",
   "id": "4decfefb",
   "metadata": {},
   "source": [
    "In this we will extract data from various sources"
   ]
  },
  {
   "cell_type": "markdown",
   "id": "1695a835",
   "metadata": {},
   "source": [
    "we are going to deal with documents loader so , we can start scarping the data from various "
   ]
  },
  {
   "cell_type": "code",
   "execution_count": 2,
   "id": "099071af",
   "metadata": {},
   "outputs": [],
   "source": [
    "from langchain_community.document_loaders import TextLoader\n",
    "loader=TextLoader('ramayan.txt')\n"
   ]
  },
  {
   "cell_type": "code",
   "execution_count": 3,
   "id": "3df74d52",
   "metadata": {},
   "outputs": [
    {
     "data": {
      "text/plain": [
       "<langchain_community.document_loaders.text.TextLoader at 0x2bbead2e230>"
      ]
     },
     "execution_count": 3,
     "metadata": {},
     "output_type": "execute_result"
    }
   ],
   "source": [
    "loader"
   ]
  },
  {
   "cell_type": "code",
   "execution_count": 4,
   "id": "c3e9a8a9",
   "metadata": {},
   "outputs": [
    {
     "name": "stdout",
     "output_type": "stream",
     "text": [
      "<langchain_community.document_loaders.text.TextLoader object at 0x000002BBEAD2E230>\n"
     ]
    }
   ],
   "source": [
    "print(loader)"
   ]
  },
  {
   "cell_type": "code",
   "execution_count": 5,
   "id": "b827d669",
   "metadata": {},
   "outputs": [
    {
     "data": {
      "text/plain": [
       "[Document(metadata={'source': 'ramayan.txt'}, page_content='### Chapter 1: Birth of Rama\\nIn the ancient kingdom of Ayodhya, King Dasharatha ruled with wisdom and fairness. Despite his wealth and power, he and his three queens—Kaushalya, Kaikeyi, and Sumitra—were without children. Seeking blessings, the king performed a grand yajna (sacrifice). The gods blessed him with divine payasam (sweet rice pudding), which he distributed among his queens. Soon, four sons were born: Rama to Kaushalya, Bharata to Kaikeyi, and Lakshmana and Shatrughna to Sumitra. Among them, Rama was the eldest and most virtuous, admired by all for his strength, wisdom, and kindness.\\n\\n\\n### Chapter 2: Rama Wins Sita\\nAs the princes grew up, their fame spread far and wide. When it was time for marriage, a swayamvara was held in the kingdom of Mithila by King Janaka to find a suitable husband for his daughter Sita. The condition was that the suitor must string the mighty bow of Lord Shiva. Many tried and failed. But Rama, with ease and grace, lifted and broke the bow. Thus, he won the hand of Sita. Their wedding was a joyous occasion, and the couples—Rama-Sita, Lakshmana-Urmila, Bharata-Mandavi, and Shatrughna-Shrutakirti—returned to Ayodhya in celebration.\\n\\n\\n### Chapter 3: Exile to the Forest\\nDasharatha planned to crown Rama as king. But Kaikeyi, manipulated by her maid Manthara, demanded that her son Bharata be crowned and Rama be exiled for 14 years. Though heartbroken, Rama obeyed his father’s word. Sita and Lakshmana insisted on accompanying him. The three left Ayodhya, donning simple robes and walking barefoot into the forests. King Dasharatha, unable to bear the grief of separation, died shortly after. Bharata, in anguish, refused to take the throne and instead ruled as Rama’s regent, placing Rama’s sandals on the throne as a symbol.\\n\\n\\n### Chapter 4: Life in the Forest\\nDuring their exile, the trio traveled through forests, meeting sages and encountering demons. They visited the hermitages of rishis like Atri, Agastya, and others. Rama protected the sages and defeated many rakshasas (demons), including the powerful demoness Shurpanakha, sister of Ravana. In retaliation, Ravana plotted revenge. With the help of his uncle Maricha, he abducted Sita using deceit. As Rama and Lakshmana were lured away, Ravana flew away with Sita to Lanka. When Rama returned and found Sita missing, he was devastated.\\n\\n\\n### Chapter 5: Alliance with Hanuman\\nIn search of Sita, Rama and Lakshmana met the monkey king Sugriva and formed an alliance. Sugriva’s general, Hanuman, leapt across the ocean to Lanka and found Sita imprisoned in Ashoka Vatika. He gave her Rama’s ring and reassured her of Rama’s rescue. On his return, Hanuman set Lanka ablaze with his burning tail. With the help of the Vanara (monkey) army, Rama built a bridge—Rama Setu—across the ocean to reach Lanka.\\n\\n\\n### Chapter 6: Battle in Lanka\\nA great battle ensued in Lanka. Rama and Ravana fought fiercely. Many heroes from both sides perished, including Lakshmana being seriously wounded and later revived with Sanjeevani brought by Hanuman. Ravana’s son Indrajit was also slain. Finally, Rama defeated Ravana using the Brahmastra. The gods rejoiced, and Sita was freed. To prove her purity, Sita underwent Agni Pariksha (trial by fire), emerging unharmed.\\n\\n\\n### Chapter 7: Return to Ayodhya\\nRama, Sita, and Lakshmana returned to Ayodhya after 14 years. Their arrival was marked by celebrations, and Rama was crowned king. His reign, known as **Rama Rajya**, was a period of peace, justice, and prosperity. But due to gossip among subjects about Sita’s chastity, Rama reluctantly sent her into exile. Sita found refuge in Sage Valmiki’s ashram, where she gave birth to twins—Lava and Kusha.\\n\\n\\n### Chapter 8: Reunion and Conclusion\\nYears later, Rama held a yajna where Lava and Kusha recited the Ramayana, revealing their identity. Rama recognized them as his sons. He invited Sita to return, but she chose to return to Mother Earth, seeking final peace. Rama ruled Ayodhya for many more years before returning to his divine form as Vishnu. The epic ends with the message of dharma (righteousness), sacrifice, and ideal living.\\n\\n\\n### Chapter 1: Birth of Rama\\nIn the ancient kingdom of Ayodhya, King Dasharatha ruled with wisdom and fairness. Despite his wealth and power, he and his three queens—Kaushalya, Kaikeyi, and Sumitra—were without children. Seeking blessings, the king performed a grand yajna (sacrifice). The gods blessed him with divine payasam (sweet rice pudding), which he distributed among his queens. Soon, four sons were born: Rama to Kaushalya, Bharata to Kaikeyi, and Lakshmana and Shatrughna to Sumitra. Among them, Rama was the eldest and most virtuous, admired by all for his strength, wisdom, and kindness.\\n\\n\\n### Chapter 2: Rama Wins Sita\\nAs the princes grew up, their fame spread far and wide. When it was time for marriage, a swayamvara was held in the kingdom of Mithila by King Janaka to find a suitable husband for his daughter Sita. The condition was that the suitor must string the mighty bow of Lord Shiva. Many tried and failed. But Rama, with ease and grace, lifted and broke the bow. Thus, he won the hand of Sita. Their wedding was a joyous occasion, and the couples—Rama-Sita, Lakshmana-Urmila, Bharata-Mandavi, and Shatrughna-Shrutakirti—returned to Ayodhya in celebration.\\n\\n\\n### Chapter 3: Exile to the Forest\\nDasharatha planned to crown Rama as king. But Kaikeyi, manipulated by her maid Manthara, demanded that her son Bharata be crowned and Rama be exiled for 14 years. Though heartbroken, Rama obeyed his father’s word. Sita and Lakshmana insisted on accompanying him. The three left Ayodhya, donning simple robes and walking barefoot into the forests. King Dasharatha, unable to bear the grief of separation, died shortly after. Bharata, in anguish, refused to take the throne and instead ruled as Rama’s regent, placing Rama’s sandals on the throne as a symbol.\\n\\n\\n### Chapter 4: Life in the Forest\\nDuring their exile, the trio traveled through forests, meeting sages and encountering demons. They visited the hermitages of rishis like Atri, Agastya, and others. Rama protected the sages and defeated many rakshasas (demons), including the powerful demoness Shurpanakha, sister of Ravana. In retaliation, Ravana plotted revenge. With the help of his uncle Maricha, he abducted Sita using deceit. As Rama and Lakshmana were lured away, Ravana flew away with Sita to Lanka. When Rama returned and found Sita missing, he was devastated.\\n\\n\\n### Chapter 5: Alliance with Hanuman\\nIn search of Sita, Rama and Lakshmana met the monkey king Sugriva and formed an alliance. Sugriva’s general, Hanuman, leapt across the ocean to Lanka and found Sita imprisoned in Ashoka Vatika. He gave her Rama’s ring and reassured her of Rama’s rescue. On his return, Hanuman set Lanka ablaze with his burning tail. With the help of the Vanara (monkey) army, Rama built a bridge—Rama Setu—across the ocean to reach Lanka.\\n\\n\\n### Chapter 6: Battle in Lanka\\nA great battle ensued in Lanka. Rama and Ravana fought fiercely. Many heroes from both sides perished, including Lakshmana being seriously wounded and later revived with Sanjeevani brought by Hanuman. Ravana’s son Indrajit was also slain. Finally, Rama defeated Ravana using the Brahmastra. The gods rejoiced, and Sita was freed. To prove her purity, Sita underwent Agni Pariksha (trial by fire), emerging unharmed.\\n\\n\\n### Chapter 7: Return to Ayodhya\\nRama, Sita, and Lakshmana returned to Ayodhya after 14 years. Their arrival was marked by celebrations, and Rama was crowned king. His reign, known as **Rama Rajya**, was a period of peace, justice, and prosperity. But due to gossip among subjects about Sita’s chastity, Rama reluctantly sent her into exile. Sita found refuge in Sage Valmiki’s ashram, where she gave birth to twins—Lava and Kusha.\\n\\n\\n### Chapter 8: Reunion and Conclusion\\nYears later, Rama held a yajna where Lava and Kusha recited the Ramayana, revealing their identity. Rama recognized them as his sons. He invited Sita to return, but she chose to return to Mother Earth, seeking final peace. Rama ruled Ayodhya for many more years before returning to his divine form as Vishnu. The epic ends with the message of dharma (righteousness), sacrifice, and ideal living.\\n\\n')]"
      ]
     },
     "execution_count": 5,
     "metadata": {},
     "output_type": "execute_result"
    }
   ],
   "source": [
    "loader.load()"
   ]
  },
  {
   "cell_type": "code",
   "execution_count": null,
   "id": "d7fd340f",
   "metadata": {},
   "outputs": [],
   "source": [
    "# now pdf \n",
    "from langchain_community.document_loaders import PyMuPDFLoader\n",
    "loader=PyMuPDFLoader('Sci-trek thon 2024_ps.pdf')"
   ]
  },
  {
   "cell_type": "code",
   "execution_count": 10,
   "id": "8ea69f4e",
   "metadata": {},
   "outputs": [
    {
     "data": {
      "text/plain": [
       "[Document(metadata={'producer': 'Canva', 'creator': 'Canva', 'creationdate': '2024-07-27T09:53:35+00:00', 'source': 'Sci-trek thon 2024_ps.pdf', 'file_path': 'Sci-trek thon 2024_ps.pdf', 'total_pages': 2, 'format': 'PDF 1.4', 'title': 'Sci-trek thon 2024', 'author': 'TIRTHA NAYAK', 'subject': '', 'keywords': 'DAGMEu4kVmA,BAFCjmrtf7E', 'moddate': '2024-07-27T09:53:35+00:00', 'trapped': '', 'modDate': \"D:20240727095335+00'00'\", 'creationDate': \"D:20240727095335+00'00'\", 'page': 0}, page_content='A. Environment and Climate Change:\\nDevelop a solution on the community level to spread awareness and track and recycle\\n efforts.\\nDevelop a way to fix carbon dioxide so that the emitted carbon dioxide can be fixed\\n with less harmful substances.\\nCreate a solar-powered irrigation system for sustainable agriculture.\\nB. Health and Well-Being:\\nSuggest ideas on monitoring and managing chronic health conditions with innovative\\n technologies.\\nPropose a solution for improving mental health support through technology.\\nCreate a tool that can use genetic information to recommend personalised patient\\n treatment.\\nCan we develop more effective treatments for cancer using AI and machine learning?\\nDesign a prototype managed by people or virtual interfaces to help individuals deal\\n with stress, anxiety, phobias, loneliness, etc. It should engage the individuals wit\\nh routine tasks and exercises and create awareness about mental well-being.\\nLipids and protein-based, cost-effective skin care. \\nWays for animal-free testing of products.\\nC. Education and learning\\n      Space\\nDesign a solution for tracking and mitigating the risk posed by space debris to\\n operational satellites and spacecraft.\\nSpace Biomining: Use of microorganisms to mine metal from space.\\n      AI-driven \\nDevelop a prototype for an AI-powered learning platform that adapts to individual\\n student needs, providing personalised lesson plans, feedback, and assessments. \\n       Robotics and Automation\\nBuilding robots that perform simple tasks using principles of mechanics and\\n electronics. This could include designing a robotic arm or a line-following robot usin\\ng sensors.\\nSCI-TREK THON 2024\\nPROBLEM STATEMENTS'),\n",
       " Document(metadata={'producer': 'Canva', 'creator': 'Canva', 'creationdate': '2024-07-27T09:53:35+00:00', 'source': 'Sci-trek thon 2024_ps.pdf', 'file_path': 'Sci-trek thon 2024_ps.pdf', 'total_pages': 2, 'format': 'PDF 1.4', 'title': 'Sci-trek thon 2024', 'author': 'TIRTHA NAYAK', 'subject': '', 'keywords': 'DAGMEu4kVmA,BAFCjmrtf7E', 'moddate': '2024-07-27T09:53:35+00:00', 'trapped': '', 'modDate': \"D:20240727095335+00'00'\", 'creationDate': \"D:20240727095335+00'00'\", 'page': 1}, page_content='D. Sustainable Development:\\nPropose an intelligent waste management system to optimise collection routes and\\n reduce litter.\\nHow can we develop more sustainable and eco-friendly materials for construction and\\n manufacturing?\\nDevelop an intelligent irrigation system that conserves water based on soil moisture\\n data.\\nPropose a solution for real-time water quality monitoring in rural areas.\\nCreate a prototype device that converts organic waste materials into clean energy\\n through anaerobic digestion or other innovative technologies, promoting sustainabl\\ne waste management practices.\\nDevelop a replacement for widely used plastic. It should be environmentally friendly\\n and economically affordable. It provides step-by-step procedures to manufacture th\\ne material that can replace plastic.\\nE. Food Security and Agriculture:\\nDesign a vertical farming system for urban areas.\\nCreate a solution for reducing food waste at the consumer level.\\nCost-effective Non-animal protein for vegans.\\nAn eco-friendly, innovative way of storing and distributing food to cater to huge\\n populations like India.')]"
      ]
     },
     "execution_count": 10,
     "metadata": {},
     "output_type": "execute_result"
    }
   ],
   "source": [
    "loader.load()"
   ]
  },
  {
   "cell_type": "code",
   "execution_count": 11,
   "id": "44e9cb97",
   "metadata": {},
   "outputs": [
    {
     "name": "stdout",
     "output_type": "stream",
     "text": [
      "[Document(metadata={'producer': 'Canva', 'creator': 'Canva', 'creationdate': '2024-07-27T09:53:35+00:00', 'source': 'Sci-trek thon 2024_ps.pdf', 'file_path': 'Sci-trek thon 2024_ps.pdf', 'total_pages': 2, 'format': 'PDF 1.4', 'title': 'Sci-trek thon 2024', 'author': 'TIRTHA NAYAK', 'subject': '', 'keywords': 'DAGMEu4kVmA,BAFCjmrtf7E', 'moddate': '2024-07-27T09:53:35+00:00', 'trapped': '', 'modDate': \"D:20240727095335+00'00'\", 'creationDate': \"D:20240727095335+00'00'\", 'page': 0}, page_content='A. Environment and Climate Change:\\nDevelop a solution on the community level to spread awareness and track and recycle\\n efforts.\\nDevelop a way to fix carbon dioxide so that the emitted carbon dioxide can be fixed\\n with less harmful substances.\\nCreate a solar-powered irrigation system for sustainable agriculture.\\nB. Health and Well-Being:\\nSuggest ideas on monitoring and managing chronic health conditions with innovative\\n technologies.\\nPropose a solution for improving mental health support through technology.\\nCreate a tool that can use genetic information to recommend personalised patient\\n treatment.\\nCan we develop more effective treatments for cancer using AI and machine learning?\\nDesign a prototype managed by people or virtual interfaces to help individuals deal\\n with stress, anxiety, phobias, loneliness, etc. It should engage the individuals wit\\nh routine tasks and exercises and create awareness about mental well-being.\\nLipids and protein-based, cost-effective skin care. \\nWays for animal-free testing of products.\\nC. Education and learning\\n      Space\\nDesign a solution for tracking and mitigating the risk posed by space debris to\\n operational satellites and spacecraft.\\nSpace Biomining: Use of microorganisms to mine metal from space.\\n      AI-driven \\nDevelop a prototype for an AI-powered learning platform that adapts to individual\\n student needs, providing personalised lesson plans, feedback, and assessments. \\n       Robotics and Automation\\nBuilding robots that perform simple tasks using principles of mechanics and\\n electronics. This could include designing a robotic arm or a line-following robot usin\\ng sensors.\\nSCI-TREK THON 2024\\nPROBLEM STATEMENTS'), Document(metadata={'producer': 'Canva', 'creator': 'Canva', 'creationdate': '2024-07-27T09:53:35+00:00', 'source': 'Sci-trek thon 2024_ps.pdf', 'file_path': 'Sci-trek thon 2024_ps.pdf', 'total_pages': 2, 'format': 'PDF 1.4', 'title': 'Sci-trek thon 2024', 'author': 'TIRTHA NAYAK', 'subject': '', 'keywords': 'DAGMEu4kVmA,BAFCjmrtf7E', 'moddate': '2024-07-27T09:53:35+00:00', 'trapped': '', 'modDate': \"D:20240727095335+00'00'\", 'creationDate': \"D:20240727095335+00'00'\", 'page': 1}, page_content='D. Sustainable Development:\\nPropose an intelligent waste management system to optimise collection routes and\\n reduce litter.\\nHow can we develop more sustainable and eco-friendly materials for construction and\\n manufacturing?\\nDevelop an intelligent irrigation system that conserves water based on soil moisture\\n data.\\nPropose a solution for real-time water quality monitoring in rural areas.\\nCreate a prototype device that converts organic waste materials into clean energy\\n through anaerobic digestion or other innovative technologies, promoting sustainabl\\ne waste management practices.\\nDevelop a replacement for widely used plastic. It should be environmentally friendly\\n and economically affordable. It provides step-by-step procedures to manufacture th\\ne material that can replace plastic.\\nE. Food Security and Agriculture:\\nDesign a vertical farming system for urban areas.\\nCreate a solution for reducing food waste at the consumer level.\\nCost-effective Non-animal protein for vegans.\\nAn eco-friendly, innovative way of storing and distributing food to cater to huge\\n populations like India.')]\n"
     ]
    }
   ],
   "source": [
    "print(loader.load())"
   ]
  },
  {
   "cell_type": "code",
   "execution_count": 18,
   "id": "da8c2214",
   "metadata": {},
   "outputs": [
    {
     "data": {
      "text/plain": [
       "'A. Environment and Climate Change:\\nDevelop a solution on the community level to spread awareness and track and recycle\\n efforts.\\nDevelop a way to fix carbon dioxide so that the emitted carbon dioxide can be fixed\\n with less harmful substances.\\nCreate a solar-powered irrigation system for sustainable agriculture.\\nB. Health and Well-Being:\\nSuggest ideas on monitoring and managing chronic health conditions with innovative\\n technologies.\\nPropose a solution for improving mental health support through technology.\\nCreate a tool that can use genetic information to recommend personalised patient\\n treatment.\\nCan we develop more effective treatments for cancer using AI and machine learning?\\nDesign a prototype managed by people or virtual interfaces to help individuals deal\\n with stress, anxiety, phobias, loneliness, etc. It should engage the individuals wit\\nh routine tasks and exercises and create awareness about mental well-being.\\nLipids and protein-based, cost-effective skin care. \\nWays for animal-free testing of products.\\nC. Education and learning\\n      Space\\nDesign a solution for tracking and mitigating the risk posed by space debris to\\n operational satellites and spacecraft.\\nSpace Biomining: Use of microorganisms to mine metal from space.\\n      AI-driven \\nDevelop a prototype for an AI-powered learning platform that adapts to individual\\n student needs, providing personalised lesson plans, feedback, and assessments. \\n       Robotics and Automation\\nBuilding robots that perform simple tasks using principles of mechanics and\\n electronics. This could include designing a robotic arm or a line-following robot usin\\ng sensors.\\nSCI-TREK THON 2024\\nPROBLEM STATEMENTS'"
      ]
     },
     "execution_count": 18,
     "metadata": {},
     "output_type": "execute_result"
    }
   ],
   "source": [
    "result=loader.load()\n",
    "result[0].page_content"
   ]
  },
  {
   "cell_type": "code",
   "execution_count": 23,
   "id": "b54c3025",
   "metadata": {},
   "outputs": [],
   "source": [
    "# for url\n",
    "from langchain_community.document_loaders import WebBaseLoader\n",
    "loader=WebBaseLoader('https://www.mosdac.gov.in/')"
   ]
  },
  {
   "cell_type": "code",
   "execution_count": 25,
   "id": "460b06b5",
   "metadata": {},
   "outputs": [
    {
     "name": "stdout",
     "output_type": "stream",
     "text": [
      "{'source': 'https://www.mosdac.gov.in/', 'title': 'Meteorological & Oceanographic Satellite Data Archival Centre', 'description': 'Meteorological and Oceanographic Satellite Data Archival Centre (MOSDAC) is a Data Centre of Space Applications Centre (SAC) for satellite data reception, processing, analysis and dissemination.', 'language': 'en'}\n"
     ]
    }
   ],
   "source": [
    "result=loader.load()\n",
    "result[0]\n",
    "print(result[0].metadata)"
   ]
  },
  {
   "cell_type": "code",
   "execution_count": null,
   "id": "ef4b0a44",
   "metadata": {},
   "outputs": [],
   "source": []
  }
 ],
 "metadata": {
  "kernelspec": {
   "display_name": "Python 3",
   "language": "python",
   "name": "python3"
  },
  "language_info": {
   "codemirror_mode": {
    "name": "ipython",
    "version": 3
   },
   "file_extension": ".py",
   "mimetype": "text/x-python",
   "name": "python",
   "nbconvert_exporter": "python",
   "pygments_lexer": "ipython3",
   "version": "3.10.18"
  }
 },
 "nbformat": 4,
 "nbformat_minor": 5
}
